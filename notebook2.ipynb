{
 "cells": [
  {
   "cell_type": "code",
   "execution_count": 2,
   "metadata": {},
   "outputs": [],
   "source": [
    "import torch\n",
    "import torch.nn as nn\n",
    "from torch.utils.data import DataLoader, Subset\n",
    "from torchvision import datasets, transforms, models\n",
    "from torch.quantization import quantize_dynamic\n",
    "\n",
    "# Function to evaluate the network\n",
    "def evaluate_network(network, data_loader, criterion):\n",
    "    network.eval()\n",
    "    total_loss = 0.0\n",
    "    total_correct = 0\n",
    "    with torch.no_grad():\n",
    "        for inputs, labels in data_loader:\n",
    "            outputs = network(inputs)\n",
    "            loss = criterion(outputs, labels)\n",
    "            total_loss += loss.item() * inputs.size(0)\n",
    "            _, predicted = torch.max(outputs, 1)\n",
    "            total_correct += (predicted == labels).sum().item()\n",
    "    return total_correct / len(data_loader.dataset), total_loss / len(data_loader.dataset)\n",
    "\n",
    "# Function to calculate SQNR\n",
    "def calculate_sqnr(full_precision_output, quantized_output):\n",
    "    signal_power = torch.mean(full_precision_output**2).item()\n",
    "    noise_power = torch.mean((full_precision_output - quantized_output)**2).item()\n",
    "    sqnr = 10 * torch.log10(signal_power / noise_power)\n",
    "    return sqnr\n"
   ]
  },
  {
   "cell_type": "code",
   "execution_count": 3,
   "metadata": {},
   "outputs": [],
   "source": [
    "def generate_sensitivity_list(network, data_loader, bit_widths, criterion):\n",
    "    sensitivity_list = []\n",
    "    original_state_dict = network.state_dict()\n",
    "    layer_names = [name for name, _ in network.named_modules() if isinstance(_, (nn.Conv2d, nn.Linear))]\n",
    "    \n",
    "    for name in layer_names:\n",
    "        for bit_width in bit_widths:\n",
    "            if bit_width != 8:\n",
    "                network.load_state_dict(original_state_dict)\n",
    "                quantized_network = quantize_dynamic(network, {nn.Linear, nn.Conv2d}, dtype=torch.qint8)\n",
    "                performance, _ = evaluate_network(quantized_network, data_loader, criterion)\n",
    "                sensitivity = performance\n",
    "                sensitivity_list.append((name, bit_width, sensitivity))\n",
    "    \n",
    "    sensitivity_list.sort(key=lambda x: x[2], reverse=True)\n",
    "    return sensitivity_list\n"
   ]
  },
  {
   "cell_type": "code",
   "execution_count": 4,
   "metadata": {},
   "outputs": [],
   "source": [
    "def find_mixed_precision_config(network, data_loader, sensitivity_list, criterion, gamma):\n",
    "    original_state_dict = network.state_dict()\n",
    "    network.load_state_dict(original_state_dict)\n",
    "    baseline_performance, _ = evaluate_network(network, data_loader, criterion)\n",
    "    \n",
    "    for name, bit_width, _ in sensitivity_list:\n",
    "        quantized_network = quantize_dynamic(network, {nn.Linear, nn.Conv2d}, dtype=torch.qint8)\n",
    "        current_performance, _ = evaluate_network(quantized_network, data_loader, criterion)\n",
    "        \n",
    "        if current_performance < gamma:\n",
    "            network.load_state_dict(original_state_dict)\n",
    "            break\n",
    "        else:\n",
    "            network = quantized_network\n",
    "    \n",
    "    return network, baseline_performance\n"
   ]
  },
  {
   "cell_type": "code",
   "execution_count": 5,
   "metadata": {},
   "outputs": [],
   "source": [
    "# Define ResNet model, data loader, and parameters\n",
    "transform = transforms.Compose([\n",
    "    transforms.Resize((224, 224)),\n",
    "    transforms.ToTensor(),\n",
    "    transforms.Normalize((0.1307,), (0.3081,))\n",
    "])\n",
    "\n",
    "# Load a subset of the MNIST dataset\n",
    "train_dataset = datasets.MNIST(root='./data', train=True, download=True, transform=transform)\n",
    "subset_indices = list(range(0, 1000))  # Use only the first 1000 samples\n",
    "subset_train_dataset = Subset(train_dataset, subset_indices)\n",
    "train_loader = DataLoader(subset_train_dataset, batch_size=64, shuffle=True)\n",
    "\n",
    "# Initialize ResNet model and adjust for MNIST\n",
    "network = models.resnet18(pretrained=True)\n",
    "network.conv1 = nn.Conv2d(1, 64, kernel_size=(7, 7), stride=(2, 2), padding=(3, 3), bias=False)  # Adjust for single channel input\n",
    "network.fc = nn.Linear(network.fc.in_features, 10)  # Adjust for 10 classes in MNIST\n",
    "\n",
    "# Define loss function\n",
    "criterion = nn.CrossEntropyLoss()\n",
    "\n",
    "# Define bit-width candidates and performance budget\n",
    "bit_widths = [2, 4, 8]  # Example bit-width candidates\n",
    "gamma = 0.8  # Performance budget\n",
    "\n",
    "# Phase 1: Generate sensitivity list\n",
    "sensitivity_list = generate_sensitivity_list(network, train_loader, bit_widths, criterion)\n",
    "\n",
    "# Phase 2: Find mixed precision configuration\n",
    "quantized_network, baseline_performance = find_mixed_precision_config(network, train_loader, sensitivity_list, criterion, gamma)\n",
    "\n",
    "# Evaluate the quantized network's performance\n",
    "quantized_performance, quantized_loss = evaluate_network(quantized_network, train_loader, criterion)\n",
    "\n",
    "# Print the results\n",
    "print(\"Baseline Network Performance:\", baseline_performance)\n",
    "print(\"Quantized Network Performance:\", quantized_performance)\n",
    "print(\"Quantized Network:\", quantized_network)\n"
   ]
  },
  {
   "cell_type": "code",
   "execution_count": 6,
   "metadata": {},
   "outputs": [],
   "source": [
    "def find_mixed_precision_config(network, data_loader, sensitivity_list, criterion, gamma):\n",
    "    original_state_dict = network.state_dict()\n",
    "    network.load_state_dict(original_state_dict)\n",
    "    baseline_performance, _ = evaluate_network(network, data_loader, criterion)\n",
    "    \n",
    "    for name, bit_width, _ in sensitivity_list:\n",
    "        quantized_network = quantize_dynamic(network, {nn.Linear, nn.Conv2d}, dtype=torch.qint8)\n",
    "        current_performance, _ = evaluate_network(quantized_network, data_loader, criterion)\n",
    "        \n",
    "        if current_performance < gamma:\n",
    "            network.load_state_dict(original_state_dict)\n",
    "            break\n",
    "        else:\n",
    "            network = quantized_network\n",
    "    \n",
    "    return network, baseline_performance\n"
   ]
  },
  {
   "cell_type": "code",
   "execution_count": 7,
   "metadata": {},
   "outputs": [
    {
     "name": "stdout",
     "output_type": "stream",
     "text": [
      "Downloading http://yann.lecun.com/exdb/mnist/train-images-idx3-ubyte.gz\n",
      "Failed to download (trying next):\n",
      "HTTP Error 403: Forbidden\n",
      "\n",
      "Downloading https://ossci-datasets.s3.amazonaws.com/mnist/train-images-idx3-ubyte.gz\n",
      "Downloading https://ossci-datasets.s3.amazonaws.com/mnist/train-images-idx3-ubyte.gz to ./data/MNIST/raw/train-images-idx3-ubyte.gz\n"
     ]
    },
    {
     "name": "stderr",
     "output_type": "stream",
     "text": [
      "100%|██████████| 9912422/9912422 [00:28<00:00, 344879.17it/s]\n"
     ]
    },
    {
     "name": "stdout",
     "output_type": "stream",
     "text": [
      "Extracting ./data/MNIST/raw/train-images-idx3-ubyte.gz to ./data/MNIST/raw\n",
      "\n",
      "Downloading http://yann.lecun.com/exdb/mnist/train-labels-idx1-ubyte.gz\n",
      "Failed to download (trying next):\n",
      "HTTP Error 403: Forbidden\n",
      "\n",
      "Downloading https://ossci-datasets.s3.amazonaws.com/mnist/train-labels-idx1-ubyte.gz\n",
      "Downloading https://ossci-datasets.s3.amazonaws.com/mnist/train-labels-idx1-ubyte.gz to ./data/MNIST/raw/train-labels-idx1-ubyte.gz\n"
     ]
    },
    {
     "name": "stderr",
     "output_type": "stream",
     "text": [
      "100%|██████████| 28881/28881 [00:00<00:00, 118383.75it/s]\n"
     ]
    },
    {
     "name": "stdout",
     "output_type": "stream",
     "text": [
      "Extracting ./data/MNIST/raw/train-labels-idx1-ubyte.gz to ./data/MNIST/raw\n",
      "\n",
      "Downloading http://yann.lecun.com/exdb/mnist/t10k-images-idx3-ubyte.gz\n",
      "Failed to download (trying next):\n",
      "HTTP Error 403: Forbidden\n",
      "\n",
      "Downloading https://ossci-datasets.s3.amazonaws.com/mnist/t10k-images-idx3-ubyte.gz\n",
      "Downloading https://ossci-datasets.s3.amazonaws.com/mnist/t10k-images-idx3-ubyte.gz to ./data/MNIST/raw/t10k-images-idx3-ubyte.gz\n"
     ]
    },
    {
     "name": "stderr",
     "output_type": "stream",
     "text": [
      "100%|██████████| 1648877/1648877 [00:08<00:00, 198138.24it/s]\n"
     ]
    },
    {
     "name": "stdout",
     "output_type": "stream",
     "text": [
      "Extracting ./data/MNIST/raw/t10k-images-idx3-ubyte.gz to ./data/MNIST/raw\n",
      "\n",
      "Downloading http://yann.lecun.com/exdb/mnist/t10k-labels-idx1-ubyte.gz\n",
      "Failed to download (trying next):\n",
      "HTTP Error 403: Forbidden\n",
      "\n",
      "Downloading https://ossci-datasets.s3.amazonaws.com/mnist/t10k-labels-idx1-ubyte.gz\n",
      "Downloading https://ossci-datasets.s3.amazonaws.com/mnist/t10k-labels-idx1-ubyte.gz to ./data/MNIST/raw/t10k-labels-idx1-ubyte.gz\n"
     ]
    },
    {
     "name": "stderr",
     "output_type": "stream",
     "text": [
      "100%|██████████| 4542/4542 [00:00<00:00, 4363382.68it/s]\n",
      "/home/kakashi/.local/lib/python3.10/site-packages/torchvision/models/_utils.py:208: UserWarning: The parameter 'pretrained' is deprecated since 0.13 and may be removed in the future, please use 'weights' instead.\n",
      "  warnings.warn(\n",
      "/home/kakashi/.local/lib/python3.10/site-packages/torchvision/models/_utils.py:223: UserWarning: Arguments other than a weight enum or `None` for 'weights' are deprecated since 0.13 and may be removed in the future. The current behavior is equivalent to passing `weights=ResNet18_Weights.IMAGENET1K_V1`. You can also use `weights=ResNet18_Weights.DEFAULT` to get the most up-to-date weights.\n",
      "  warnings.warn(msg)\n"
     ]
    },
    {
     "name": "stdout",
     "output_type": "stream",
     "text": [
      "Extracting ./data/MNIST/raw/t10k-labels-idx1-ubyte.gz to ./data/MNIST/raw\n",
      "\n",
      "Epoch 1/5, Loss: 0.5079\n",
      "Epoch 2/5, Loss: 0.0797\n",
      "Epoch 3/5, Loss: 0.0393\n"
     ]
    }
   ],
   "source": [
    "# Define ResNet model, data loader, and parameters\n",
    "transform = transforms.Compose([\n",
    "    transforms.Resize((224, 224)),\n",
    "    transforms.ToTensor(),\n",
    "    transforms.Normalize((0.1307,), (0.3081,))\n",
    "])\n",
    "\n",
    "# Load a subset of the MNIST dataset\n",
    "train_dataset = datasets.MNIST(root='./data', train=True, download=True, transform=transform)\n",
    "subset_indices = list(range(0, 1000))  # Use only the first 1000 samples\n",
    "subset_train_dataset = Subset(train_dataset, subset_indices)\n",
    "train_loader = DataLoader(subset_train_dataset, batch_size=64, shuffle=True)\n",
    "\n",
    "# Initialize ResNet model and adjust for MNIST\n",
    "network = models.resnet18(pretrained=True)\n",
    "network.conv1 = nn.Conv2d(1, 64, kernel_size=(7, 7), stride=(2, 2), padding=(3, 3), bias=False)  # Adjust for single channel input\n",
    "network.fc = nn.Linear(network.fc.in_features, 10)  # Adjust for 10 classes in MNIST\n",
    "\n",
    "# Define loss function and optimizer\n",
    "criterion = nn.CrossEntropyLoss()\n",
    "optimizer = optim.Adam(network.parameters(), lr=0.001)\n",
    "\n",
    "# Train the network\n",
    "train_network(network, train_loader, criterion, optimizer, num_epochs=5)\n",
    "\n",
    "# Define bit-width candidates and performance budget\n",
    "bit_widths = [2, 4, 8]  # Example bit-width candidates\n",
    "gamma = 0.8  # Performance budget\n",
    "\n",
    "# Phase 1: Generate sensitivity list\n",
    "sensitivity_list = generate_sensitivity_list(network, train_loader, bit_widths, criterion)\n",
    "\n",
    "# Phase 2: Find mixed precision configuration\n",
    "quantized_network, baseline_performance = find_mixed_precision_config(network, train_loader, sensitivity_list, criterion, gamma)\n",
    "\n",
    "# Evaluate the quantized network's performance\n",
    "quantized_performance, quantized_loss = evaluate_network(quantized_network, train_loader, criterion)\n",
    "\n",
    "# Print the results\n",
    "print(\"Baseline Network Performance:\", baseline_performance)\n",
    "print(\"Quantized Network Performance:\", quantized_performance)\n",
    "print(\"Quantized Network:\", quantized_network)\n"
   ]
  }
 ],
 "metadata": {
  "kernelspec": {
   "display_name": "Python 3",
   "language": "python",
   "name": "python3"
  },
  "language_info": {
   "codemirror_mode": {
    "name": "ipython",
    "version": 3
   },
   "file_extension": ".py",
   "mimetype": "text/x-python",
   "name": "python",
   "nbconvert_exporter": "python",
   "pygments_lexer": "ipython3",
   "version": "3.10.12"
  }
 },
 "nbformat": 4,
 "nbformat_minor": 2
}
